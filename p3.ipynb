{
 "cells": [
  {
   "cell_type": "code",
   "execution_count": 2,
   "metadata": {},
   "outputs": [],
   "source": [
    "import face_recognition\n",
    "from rtree import index\n",
    "import os\n",
    "import numpy as np"
   ]
  },
  {
   "cell_type": "code",
   "execution_count": 6,
   "metadata": {},
   "outputs": [
    {
     "name": "stdout",
     "output_type": "stream",
     "text": [
      "Tamaño de la lista:  5749\n"
     ]
    },
    {
     "ename": "IsADirectoryError",
     "evalue": "[Errno 21] Is a directory: '/Users/camila/Library/Mobile Documents/com~apple~CloudDocs/Ciclo 5/bd2/dumb/BD2-Lab10_2/lfw/Jamie_Martin'",
     "output_type": "error",
     "traceback": [
      "\u001b[0;31m---------------------------------------------------------------------------\u001b[0m",
      "\u001b[0;31mIsADirectoryError\u001b[0m                         Traceback (most recent call last)",
      "Cell \u001b[0;32mIn[6], line 26\u001b[0m\n\u001b[1;32m     24\u001b[0m \u001b[39mfor\u001b[39;00m i \u001b[39min\u001b[39;00m random_indices:\n\u001b[1;32m     25\u001b[0m     image_path \u001b[39m=\u001b[39m os\u001b[39m.\u001b[39mpath\u001b[39m.\u001b[39mjoin(folder_path, file_list[i])\n\u001b[0;32m---> 26\u001b[0m     image \u001b[39m=\u001b[39m face_recognition\u001b[39m.\u001b[39;49mload_image_file(image_path)\n\u001b[1;32m     27\u001b[0m     face_encoding \u001b[39m=\u001b[39m face_recognition\u001b[39m.\u001b[39mface_encodings(image)[\u001b[39m0\u001b[39m]\n\u001b[1;32m     28\u001b[0m     data\u001b[39m.\u001b[39mappend(face_encoding)\n",
      "File \u001b[0;32m~/anaconda3/lib/python3.8/site-packages/face_recognition/api.py:86\u001b[0m, in \u001b[0;36mload_image_file\u001b[0;34m(file, mode)\u001b[0m\n\u001b[1;32m     78\u001b[0m \u001b[39mdef\u001b[39;00m \u001b[39mload_image_file\u001b[39m(file, mode\u001b[39m=\u001b[39m\u001b[39m'\u001b[39m\u001b[39mRGB\u001b[39m\u001b[39m'\u001b[39m):\n\u001b[1;32m     79\u001b[0m \u001b[39m    \u001b[39m\u001b[39m\"\"\"\u001b[39;00m\n\u001b[1;32m     80\u001b[0m \u001b[39m    Loads an image file (.jpg, .png, etc) into a numpy array\u001b[39;00m\n\u001b[1;32m     81\u001b[0m \n\u001b[0;32m   (...)\u001b[0m\n\u001b[1;32m     84\u001b[0m \u001b[39m    :return: image contents as numpy array\u001b[39;00m\n\u001b[1;32m     85\u001b[0m \u001b[39m    \"\"\"\u001b[39;00m\n\u001b[0;32m---> 86\u001b[0m     im \u001b[39m=\u001b[39m PIL\u001b[39m.\u001b[39;49mImage\u001b[39m.\u001b[39;49mopen(file)\n\u001b[1;32m     87\u001b[0m     \u001b[39mif\u001b[39;00m mode:\n\u001b[1;32m     88\u001b[0m         im \u001b[39m=\u001b[39m im\u001b[39m.\u001b[39mconvert(mode)\n",
      "File \u001b[0;32m~/anaconda3/lib/python3.8/site-packages/PIL/Image.py:3227\u001b[0m, in \u001b[0;36mopen\u001b[0;34m(fp, mode, formats)\u001b[0m\n\u001b[1;32m   3224\u001b[0m     filename \u001b[39m=\u001b[39m fp\n\u001b[1;32m   3226\u001b[0m \u001b[39mif\u001b[39;00m filename:\n\u001b[0;32m-> 3227\u001b[0m     fp \u001b[39m=\u001b[39m builtins\u001b[39m.\u001b[39;49mopen(filename, \u001b[39m\"\u001b[39;49m\u001b[39mrb\u001b[39;49m\u001b[39m\"\u001b[39;49m)\n\u001b[1;32m   3228\u001b[0m     exclusive_fp \u001b[39m=\u001b[39m \u001b[39mTrue\u001b[39;00m\n\u001b[1;32m   3230\u001b[0m \u001b[39mtry\u001b[39;00m:\n",
      "\u001b[0;31mIsADirectoryError\u001b[0m: [Errno 21] Is a directory: '/Users/camila/Library/Mobile Documents/com~apple~CloudDocs/Ciclo 5/bd2/dumb/BD2-Lab10_2/lfw/Jamie_Martin'"
     ]
    }
   ],
   "source": [
    "import face_recognition\n",
    "import random\n",
    "import numpy as np\n",
    "import matplotlib.pyplot as plt\n",
    "import os\n",
    "import time\n",
    "from sklearn.neighbors import BallTree\n",
    "import heapq\n",
    "\n",
    "# Ruta a la carpeta con las imágenes de rostros\n",
    "folder_path = \"/Users/camila/Library/Mobile Documents/com~apple~CloudDocs/Ciclo 5/bd2/dumb/BD2-Lab10_2/lfw\"\n",
    "\n",
    "# Obtener la lista de archivos de imagen en la carpeta\n",
    "file_list = os.listdir(folder_path)\n",
    "\n",
    "# Seleccionar N rostros aleatorios\n",
    "N = 1000\n",
    "print(\"Tamaño de la lista: \", len(file_list))\n",
    "random_indices = random.sample(range(len(file_list)), N)\n",
    "\n",
    "data = []\n",
    "\n",
    "# Cargar las imágenes y extraer las codificaciones de rostros\n",
    "for i in random_indices:\n",
    "    image_path = os.path.join(folder_path, file_list[i])\n",
    "    image = face_recognition.load_image_file(image_path)\n",
    "    face_encoding = face_recognition.face_encodings(image)[0]\n",
    "    data.append(face_encoding)\n",
    "\n",
    "# Convertir la lista de codificaciones de rostros a un array numpy\n",
    "data = np.array(data)\n",
    "\n",
    "# Definir la función de búsqueda KNN secuencial\n",
    "def knn_sequential(query_vector, data, k):\n",
    "    distances = [(np.linalg.norm(query_vector - data_vector), i) for i, data_vector in enumerate(data)]\n",
    "    return heapq.nsmallest(k, distances)  # Retorna los 'k' menores elementos\n",
    "\n",
    "# Medir el tiempo de la búsqueda KNN secuencial\n",
    "start_time = time.time()\n",
    "knn_sequential(data[0], data, 10)\n",
    "print(\"--- Búsqueda KNN secuencial: %s segundos ---\" % (time.time() - start_time))\n",
    "\n",
    "# Crear el BallTree para la búsqueda KNN indexada\n",
    "tree = BallTree(data)\n",
    "\n",
    "# Medir el tiempo de la búsqueda KNN indexada\n",
    "start_time = time.time()\n",
    "dist, ind = tree.query([data[0]], k=10)\n",
    "print(\"--- Búsqueda KNN indexada: %s segundos ---\" % (time.time() - start_time))\n"
   ]
  },
  {
   "cell_type": "code",
   "execution_count": 7,
   "metadata": {},
   "outputs": [
    {
     "name": "stdout",
     "output_type": "stream",
     "text": [
      "Finished building RTree and data_vectors.\n"
     ]
    }
   ],
   "source": [
    "import face_recognition\n",
    "import os\n",
    "import numpy as np\n",
    "from rtree import index\n",
    "import random\n",
    "import time\n",
    "\n",
    "# Ruta a la carpeta con las imágenes de rostros\n",
    "folder_path = \"/Users/camila/Library/Mobile Documents/com~apple~CloudDocs/Ciclo 5/bd2/dumb/BD2-Lab10_2/lfw\"\n",
    "\n",
    "# Obtener la lista de subcarpetas y archivos en la carpeta\n",
    "subfolders_files = os.listdir(folder_path)\n",
    "\n",
    "# Crear una lista vacía para almacenar las rutas completas de las imágenes\n",
    "image_paths = []\n",
    "\n",
    "# Iterar a través de las subcarpetas y archivos\n",
    "for subfolder_file in subfolders_files:\n",
    "    # Crear la ruta completa al subfolder/archivo\n",
    "    subfolder_file_path = os.path.join(folder_path, subfolder_file)\n",
    "    \n",
    "    # Si es una subcarpeta, iterar a través de los archivos dentro de la subcarpeta\n",
    "    if os.path.isdir(subfolder_file_path):\n",
    "        files = os.listdir(subfolder_file_path)\n",
    "        for file in files:\n",
    "            file_path = os.path.join(subfolder_file_path, file)\n",
    "            # Agregar la ruta completa de la imagen a la lista\n",
    "            image_paths.append(file_path)\n",
    "    # Si es un archivo, agregar la ruta completa de la imagen a la lista\n",
    "    else:\n",
    "        image_paths.append(subfolder_file_path)\n",
    "\n",
    "# Crear un RTree y una lista para almacenar los vectores de datos\n",
    "p = index.Property()\n",
    "p.dimension = 128  # Los vectores característicos de face_recognition tienen una dimensión de 128\n",
    "idx = index.Index(properties=p)\n",
    "data_vectors = []\n",
    "\n",
    "for i, image_path in enumerate(image_paths):\n",
    "    try:\n",
    "        image = face_recognition.load_image_file(image_path)\n",
    "        face_encodings = face_recognition.face_encodings(image)\n",
    "\n",
    "        if len(face_encodings) > 0:\n",
    "            face_encoding = face_encodings[0]\n",
    "\n",
    "            # Agregar el vector al RTree\n",
    "            idx.insert(i, tuple(face_encoding))\n",
    "\n",
    "            # Agregar el vector a la lista\n",
    "            data_vectors.append(face_encoding)\n",
    "    except:\n",
    "        print(f\"Error processing {image_path}\")\n",
    "\n",
    "print(\"Finished building RTree and data_vectors.\")\n"
   ]
  },
  {
   "cell_type": "code",
   "execution_count": 8,
   "metadata": {},
   "outputs": [],
   "source": [
    "import heapq\n",
    "\n",
    "def knn_sequential(query_vector, data_vectors, k):\n",
    "    heap = []\n",
    "\n",
    "    for i, data_vector in enumerate(data_vectors):\n",
    "        distance = np.linalg.norm(data_vector - query_vector)\n",
    "\n",
    "        if len(heap) < k:\n",
    "            heapq.heappush(heap, (-distance, i))\n",
    "        else:\n",
    "            heapq.heappushpop(heap, (-distance, i))\n",
    "\n",
    "    indices = [i for distance, i in heap]\n",
    "    return indices\n",
    "\n"
   ]
  },
  {
   "cell_type": "code",
   "execution_count": 11,
   "metadata": {},
   "outputs": [
    {
     "name": "stdout",
     "output_type": "stream",
     "text": [
      "Sequential KNN :652.2648141384125 secs.\n",
      "Indexed KNN : 557.0000820159912 seconds.\n"
     ]
    }
   ],
   "source": [
    "N = 10 ** 4  # Número de consultas\n",
    "k = 5  # Número de vecinos más cercanos para KNN\n",
    "\n",
    "random_indices = random.sample(range(len(data_vectors)), N)\n",
    "query_vectors = [data_vectors[i] for i in random_indices]\n",
    "\n",
    "start = time.time()\n",
    "\n",
    "for query_vector in query_vectors:\n",
    "    knn_sequential(query_vector, data_vectors, k)\n",
    "\n",
    "end = time.time()\n",
    "sequential_time = end - start\n",
    "print(f\"Sequential KNN :{sequential_time} secs.\")\n",
    "\n",
    "start = time.time()\n",
    "\n",
    "for query_vector in query_vectors:\n",
    "    list(idx.nearest(tuple(query_vector), k))\n",
    "\n",
    "end = time.time()\n",
    "indexed_time = end - start\n",
    "print(f\"Indexed KNN : {indexed_time} seconds.\")\n",
    "\n",
    "\n"
   ]
  }
 ],
 "metadata": {
  "kernelspec": {
   "display_name": "base",
   "language": "python",
   "name": "python3"
  },
  "language_info": {
   "codemirror_mode": {
    "name": "ipython",
    "version": 3
   },
   "file_extension": ".py",
   "mimetype": "text/x-python",
   "name": "python",
   "nbconvert_exporter": "python",
   "pygments_lexer": "ipython3",
   "version": "3.8.5"
  },
  "orig_nbformat": 4,
  "vscode": {
   "interpreter": {
    "hash": "226f15c6a4e585ac1fdf3a387ea8b2cbe24f86031ce71361342cfca905a10f19"
   }
  }
 },
 "nbformat": 4,
 "nbformat_minor": 2
}
